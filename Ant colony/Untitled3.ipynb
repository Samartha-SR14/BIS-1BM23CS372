{
  "nbformat": 4,
  "nbformat_minor": 0,
  "metadata": {
    "colab": {
      "provenance": []
    },
    "kernelspec": {
      "name": "python3",
      "display_name": "Python 3"
    },
    "language_info": {
      "name": "python"
    }
  },
  "cells": [
    {
      "cell_type": "code",
      "execution_count": 1,
      "metadata": {
        "colab": {
          "base_uri": "https://localhost:8080/"
        },
        "id": "fJirYuQjnXZp",
        "outputId": "21abc511-6042-4c32-d4cc-69868230f2b8"
      },
      "outputs": [
        {
          "output_type": "stream",
          "name": "stdout",
          "text": [
            "Best assignment: [0, 0, 1, 2, 0, 2, 1, 1, 1]\n",
            "Best makespan: 22\n"
          ]
        }
      ],
      "source": [
        "# Ant Colony Optimization (ACO) for Job Scheduling Problem (Makespan Minimization)\n",
        "\n",
        "import numpy as np\n",
        "\n",
        "class AntColonyJobScheduling:\n",
        "    def __init__(self, job_times, n_machines, n_ants, n_best, n_iterations, decay, alpha=1, beta=2):\n",
        "        \"\"\"\n",
        "        job_times: list or array of job processing times\n",
        "        n_machines: number of machines\n",
        "        n_ants: number of ants per iteration\n",
        "        n_best: number of best ants to deposit pheromone\n",
        "        n_iterations: number of iterations\n",
        "        decay: pheromone evaporation rate\n",
        "        alpha: influence of pheromone\n",
        "        beta: influence of heuristic (1/job_time)\n",
        "        \"\"\"\n",
        "        self.job_times = job_times\n",
        "        self.n_jobs = len(job_times)\n",
        "        self.n_machines = n_machines\n",
        "        self.n_ants = n_ants\n",
        "        self.n_best = n_best\n",
        "        self.n_iterations = n_iterations\n",
        "        self.decay = decay\n",
        "        self.alpha = alpha\n",
        "        self.beta = beta\n",
        "\n",
        "        # pheromone matrix: shape (n_jobs, n_machines)\n",
        "        # pheromone[i][j] indicates desirability of assigning job i to machine j\n",
        "        self.pheromone = np.ones((self.n_jobs, self.n_machines))\n",
        "\n",
        "        # heuristic: inverse of job processing times (favor shorter jobs)\n",
        "        self.heuristic = 1 / (np.array(job_times) + 1e-6)\n",
        "\n",
        "    def run(self):\n",
        "        best_solution = None\n",
        "        best_makespan = float('inf')\n",
        "\n",
        "        for _ in range(self.n_iterations):\n",
        "            all_solutions = []\n",
        "            for _ in range(self.n_ants):\n",
        "                solution = self.construct_solution()\n",
        "                makespan = self.evaluate_solution(solution)\n",
        "                all_solutions.append((solution, makespan))\n",
        "\n",
        "                if makespan < best_makespan:\n",
        "                    best_solution = solution\n",
        "                    best_makespan = makespan\n",
        "\n",
        "            self.update_pheromone(all_solutions)\n",
        "            self.pheromone *= (1 - self.decay)\n",
        "\n",
        "        return best_solution, best_makespan\n",
        "\n",
        "    def construct_solution(self):\n",
        "        assignment = [-1] * self.n_jobs\n",
        "        for job in range(self.n_jobs):\n",
        "            probabilities = (self.pheromone[job] ** self.alpha) * (self.heuristic[job] ** self.beta)\n",
        "            probabilities /= probabilities.sum()\n",
        "            machine = np.random.choice(self.n_machines, p=probabilities)\n",
        "            assignment[job] = machine\n",
        "        return assignment\n",
        "\n",
        "    def evaluate_solution(self, assignment):\n",
        "        machine_loads = [0] * self.n_machines\n",
        "        for job, machine in enumerate(assignment):\n",
        "            machine_loads[machine] += self.job_times[job]\n",
        "        return max(machine_loads)\n",
        "\n",
        "    def update_pheromone(self, all_solutions):\n",
        "        # sort solutions by makespan (ascending)\n",
        "        all_solutions.sort(key=lambda x: x[1])\n",
        "        for solution, makespan in all_solutions[:self.n_best]:\n",
        "            # deposit pheromone inversely proportional to makespan\n",
        "            deposit = 1.0 / makespan\n",
        "            for job, machine in enumerate(solution):\n",
        "                self.pheromone[job][machine] += deposit\n",
        "\n",
        "# Example usage:\n",
        "job_times = [2, 14, 4, 16, 6, 5, 3, 7, 8]\n",
        "n_machines = 3\n",
        "\n",
        "aco_scheduler = AntColonyJobScheduling(\n",
        "    job_times=job_times,\n",
        "    n_machines=n_machines,\n",
        "    n_ants=20,\n",
        "    n_best=5,\n",
        "    n_iterations=100,\n",
        "    decay=0.1,\n",
        "    alpha=1,\n",
        "    beta=2\n",
        ")\n",
        "\n",
        "best_assignment, best_makespan = aco_scheduler.run()\n",
        "print(f\"Best assignment: {best_assignment}\")\n",
        "print(f\"Best makespan: {best_makespan}\")\n"
      ]
    }
  ]
}