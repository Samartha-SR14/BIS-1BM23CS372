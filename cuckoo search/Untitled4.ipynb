{
  "nbformat": 4,
  "nbformat_minor": 0,
  "metadata": {
    "colab": {
      "provenance": []
    },
    "kernelspec": {
      "name": "python3",
      "display_name": "Python 3"
    },
    "language_info": {
      "name": "python"
    }
  },
  "cells": [
    {
      "cell_type": "code",
      "execution_count": 1,
      "metadata": {
        "colab": {
          "base_uri": "https://localhost:8080/"
        },
        "id": "-JNWEzKBrmy1",
        "outputId": "4ea16eda-41a3-4c0c-d266-dfbad980300b"
      },
      "outputs": [
        {
          "output_type": "stream",
          "name": "stdout",
          "text": [
            "Iteration 0: Best timing [34.36564147 32.23394622 35.20078371], Fitness: 7.26\n",
            "Iteration 10: Best timing [30.96896446 30.30768515 28.9600287 ], Fitness: 0.08\n",
            "Iteration 20: Best timing [29.47627836 30.13353196 29.24382726], Fitness: -0.82\n",
            "Iteration 30: Best timing [27.66648737 30.30826199 30.1986189 ], Fitness: 7.50\n",
            "Iteration 40: Best timing [29.55918855 29.5374111  29.68193506], Fitness: 3.84\n",
            "Iteration 49: Best timing [29.99724355 31.44266329 29.48930806], Fitness: 6.45\n",
            "\n",
            "Best traffic signal timings found: [31.02621867 30.13052934 28.89048991]\n",
            "With estimated waiting time: 2.660040348329776\n"
          ]
        }
      ],
      "source": [
        "import random\n",
        "import numpy as np\n",
        "\n",
        "# Parameters\n",
        "num_nests = 20\n",
        "max_iterations = 50\n",
        "pa = 0.25  # Fraction of nests to abandon\n",
        "num_phases = 3  # Number of traffic light phases per intersection\n",
        "\n",
        "# Generate random traffic signal timings (e.g., seconds for each phase)\n",
        "def random_timing():\n",
        "    # Each phase between 10 and 60 seconds\n",
        "    return np.random.uniform(10, 60, size=num_phases)\n",
        "\n",
        "# Mock fitness function: lower total waiting time is better\n",
        "def fitness(timing):\n",
        "    # For demo, let's say waiting time increases with deviation from ideal timing (30 sec each phase)\n",
        "    ideal = np.array([30, 30, 30])\n",
        "    waiting_time = np.sum(np.abs(timing - ideal))\n",
        "    # Add some randomness to simulate varying traffic conditions\n",
        "    noise = random.uniform(-5, 5)\n",
        "    return waiting_time + noise\n",
        "\n",
        "# Levy flight step for new solution generation\n",
        "def levy_flight(timing, alpha=0.1):\n",
        "    # Levy flight: here simplified as random step scaled by alpha\n",
        "    step = np.random.normal(0, 1, size=timing.shape)\n",
        "    new_timing = timing + alpha * step * timing\n",
        "    # Keep timings within valid bounds (10 to 60 seconds)\n",
        "    new_timing = np.clip(new_timing, 10, 60)\n",
        "    return new_timing\n",
        "\n",
        "# Initialize nests\n",
        "nests = [random_timing() for _ in range(num_nests)]\n",
        "\n",
        "for iteration in range(max_iterations):\n",
        "    for i in range(num_nests):\n",
        "        new_timing = levy_flight(nests[i])\n",
        "        new_fit = fitness(new_timing)\n",
        "\n",
        "        j = random.randint(0, num_nests - 1)\n",
        "        old_fit = fitness(nests[j])\n",
        "\n",
        "        if new_fit < old_fit:\n",
        "            nests[j] = new_timing\n",
        "\n",
        "    # Abandon some nests and replace with new random timings\n",
        "    num_abandon = int(pa * num_nests)\n",
        "    fitness_values = [fitness(n) for n in nests]\n",
        "    worst_nests_indices = sorted(range(num_nests), key=lambda k: fitness_values[k], reverse=True)[:num_abandon]\n",
        "\n",
        "    for idx in worst_nests_indices:\n",
        "        nests[idx] = random_timing()\n",
        "\n",
        "    # Print best fitness every 10 iterations\n",
        "    if iteration % 10 == 0 or iteration == max_iterations - 1:\n",
        "        best_nest = min(nests, key=fitness)\n",
        "        print(f\"Iteration {iteration}: Best timing {best_nest}, Fitness: {fitness(best_nest):.2f}\")\n",
        "\n",
        "# Final best solution\n",
        "best_nest = min(nests, key=fitness)\n",
        "print(\"\\nBest traffic signal timings found:\", best_nest)\n",
        "print(\"With estimated waiting time:\", fitness(best_nest))"
      ]
    }
  ]
}